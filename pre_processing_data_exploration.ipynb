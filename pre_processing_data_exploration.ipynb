{
 "cells": [
  {
   "cell_type": "code",
   "execution_count": 1,
   "metadata": {
    "collapsed": false,
    "jupyter": {
     "outputs_hidden": false
    }
   },
   "outputs": [],
   "source": [
    "import pandas as pd\n",
    "from const import LOG_ROOT\n",
    "import logging\n",
    "import pickle\n",
    "logging.basicConfig(format=\"%(asctime)s %(levelname)s - %(message)s\", level=logging.WARN)\n",
    "\n",
    "import warnings\n",
    "warnings.simplefilter('ignore')\n"
   ]
  },
  {
   "cell_type": "code",
   "execution_count": 3,
   "outputs": [
    {
     "name": "stdout",
     "output_type": "stream",
     "text": [
      "<class 'pandas.core.frame.DataFrame'>\n",
      "RangeIndex: 330709 entries, 0 to 330708\n",
      "Data columns (total 23 columns):\n",
      " #   Column             Non-Null Count   Dtype              \n",
      "---  ------             --------------   -----              \n",
      " 0   case:concept:name  330709 non-null  object             \n",
      " 1   concept:name       330709 non-null  object             \n",
      " 2   time:timestamp     330709 non-null  datetime64[ns, UTC]\n",
      " 3   CAT_ATTR_01        330709 non-null  object             \n",
      " 4   CAT_ATTR_02        330709 non-null  object             \n",
      " 5   CAT_ATTR_03        330709 non-null  object             \n",
      " 6   CAT_ATTR_04        330709 non-null  object             \n",
      " 7   CAT_ATTR_05        330709 non-null  object             \n",
      " 8   CAT_ATTR_06        330709 non-null  object             \n",
      " 9   CAT_ATTR_07        330709 non-null  object             \n",
      " 10  CAT_ATTR_08        330709 non-null  object             \n",
      " 11  CAT_ATTR_09        330709 non-null  object             \n",
      " 12  CAT_ATTR_10        330709 non-null  object             \n",
      " 13  NUM_ATTR_01        330709 non-null  float64            \n",
      " 14  CAT_ATTR_11        330709 non-null  object             \n",
      " 15  CAT_ATTR_12        330709 non-null  object             \n",
      " 16  CAT_ATTR_13        330709 non-null  object             \n",
      " 17  CAT_ATTR_14        330709 non-null  object             \n",
      " 18  NUM_ATTR_02        330709 non-null  int64              \n",
      " 19  NUM_ATTR_03        330709 non-null  float64            \n",
      " 20  CAT_ATTR_15        330709 non-null  object             \n",
      " 21  NUM_ATTR_04        330709 non-null  float64            \n",
      " 22  concurrent_cases   330709 non-null  int64              \n",
      "dtypes: datetime64[ns, UTC](1), float64(3), int64(2), object(17)\n",
      "memory usage: 58.0+ MB\n",
      "None\n",
      "Generating Dataframes...\n"
     ]
    },
    {
     "name": "stderr",
     "output_type": "stream",
     "text": [
      "100%|██████████| 8/8 [00:00<00:00, 30.92it/s]\n",
      "100%|██████████| 8/8 [00:00<00:00, 192.57it/s]\n",
      "100%|██████████| 14/14 [00:02<00:00,  6.44it/s]\n",
      "100%|██████████| 14/14 [00:00<00:00, 28.09it/s]\n",
      "100%|██████████| 14/14 [00:00<00:00, 14.42it/s]\n"
     ]
    },
    {
     "name": "stdout",
     "output_type": "stream",
     "text": [
      "Generating Tensors...\n",
      "Computing train set tensors\n",
      "Generating prefix tensors ...\n",
      "Generating (decoder) suffix tensors ...\n",
      "Generating time label tensors ...\n",
      "Generating activity label tensors ...\n",
      "____________________________\n",
      "Computing validation set tensors\n",
      "Generating prefix tensors ...\n",
      "Generating (decoder) suffix tensors ...\n",
      "Generating time label tensors ...\n",
      "Generating activity label tensors ...\n",
      "____________________________\n",
      "Computing test set tensors\n",
      "Generating prefix tensors ...\n",
      "Generating (decoder) suffix tensors ...\n",
      "Generating time label tensors ...\n",
      "Generating activity label tensors ...\n"
     ]
    }
   ],
   "source": [
    "from Preprocessing import create_outbound_data as sutran\n",
    "\n",
    "\n",
    "\n",
    "dataset_name = 'outbound_2024_06_10_obfuscated'\n",
    "input_dataset_location = 'data/logs'\n",
    "output_dataset_location = 'data/preprocessed'\n",
    "\n",
    "sutran.construct_datasets(dataset_name=dataset_name,\n",
    "                          dataset_location=input_dataset_location,\n",
    "                              output_location=output_dataset_location)"
   ],
   "metadata": {
    "collapsed": false
   }
  },
  {
   "cell_type": "code",
   "execution_count": 25,
   "outputs": [
    {
     "data": {
      "text/plain": "        case:concept:name concept:name            time:timestamp CAT_ATTR_16  \\\n0                       0            S 2024-01-25 14:33:20+00:00  3eb6aa9438   \n1                       0         A005 2024-01-25 14:33:20+00:00  3eb6aa9438   \n2                       0         A045 2024-01-25 14:36:28+00:00  3eb6aa9438   \n3                       0         A010 2024-01-25 14:41:58+00:00  3eb6aa9438   \n4                       0         A015 2024-01-25 14:42:00+00:00  3eb6aa9438   \n...                   ...          ...                       ...         ...   \n1354939            169523         A045 2024-02-13 09:28:40+00:00  ee63175717   \n1354940            169523         A010 2024-02-13 09:28:43+00:00  ee63175717   \n1354941            169523         A015 2024-02-13 09:28:43+00:00  ee63175717   \n1354942            169523         A020 2024-02-13 09:28:46+00:00  ee63175717   \n1354943            169523         A120 2024-02-13 09:36:32+00:00  ee63175717   \n\n        CAT_ATTR_01 CAT_ATTR_17 CAT_ATTR_02 CAT_ATTR_03 CAT_ATTR_18  \\\n0        6c36293365  27467fd3d4  5085f0136f  b5a5436b41  5f130f9cbb   \n1        6c36293365  27467fd3d4  5085f0136f  b5a5436b41  5f130f9cbb   \n2        6c36293365  27467fd3d4  5085f0136f  b5a5436b41  5f130f9cbb   \n3        6c36293365  27467fd3d4  5085f0136f  b5a5436b41  5f130f9cbb   \n4        6c36293365  27467fd3d4  5085f0136f  b5a5436b41  5f130f9cbb   \n...             ...         ...         ...         ...         ...   \n1354939  ed678151f1  27467fd3d4  5085f0136f  68b549aba1  6dd325831c   \n1354940  ed678151f1  27467fd3d4  5085f0136f  68b549aba1  6dd325831c   \n1354941  ed678151f1  27467fd3d4  5085f0136f  68b549aba1  6dd325831c   \n1354942  ed678151f1  27467fd3d4  5085f0136f  68b549aba1  6dd325831c   \n1354943  ed678151f1  27467fd3d4  5085f0136f  68b549aba1  6dd325831c   \n\n        CAT_ATTR_04  ... CAT_ATTR_11 CAT_ATTR_19 CAT_ATTR_12 CAT_ATTR_13  \\\n0        8b55872505  ...  10cd4a11ff  ac3a612816  b5a5436b41  4437136378   \n1        8b55872505  ...  10cd4a11ff  ac3a612816  b5a5436b41  4437136378   \n2        8b55872505  ...  10cd4a11ff  ac3a612816  b5a5436b41  4437136378   \n3        8b55872505  ...  10cd4a11ff  ac3a612816  b5a5436b41  4437136378   \n4        8b55872505  ...  10cd4a11ff  ac3a612816  b5a5436b41  4437136378   \n...             ...  ...         ...         ...         ...         ...   \n1354939  536251a4bb  ...  10cd4a11ff  ac3a612816  22b61cbf8c  4437136378   \n1354940  536251a4bb  ...  10cd4a11ff  ac3a612816  22b61cbf8c  4437136378   \n1354941  536251a4bb  ...  10cd4a11ff  ac3a612816  22b61cbf8c  4437136378   \n1354942  536251a4bb  ...  10cd4a11ff  ac3a612816  22b61cbf8c  4437136378   \n1354943  536251a4bb  ...  10cd4a11ff  ac3a612816  22b61cbf8c  4437136378   \n\n        CAT_ATTR_14 NUM_ATTR_02  NUM_ATTR_03 CAT_ATTR_15 NUM_ATTR_04  \\\n0               NaN           1          8.0  666696117f         1.0   \n1               NaN           1          8.0  666696117f         1.0   \n2               NaN           1          8.0  666696117f         1.0   \n3               NaN           1          8.0  666696117f         1.0   \n4               NaN           1          8.0  666696117f         1.0   \n...             ...         ...          ...         ...         ...   \n1354939         NaN           1          0.9  e53bbc86dd         1.0   \n1354940         NaN           1          0.9  e53bbc86dd         1.0   \n1354941         NaN           1          0.9  e53bbc86dd         1.0   \n1354942         NaN           1          0.9  e53bbc86dd         1.0   \n1354943         NaN           1          0.9  e53bbc86dd         1.0   \n\n        CAT_ATTR_20  \n0        764085dd6d  \n1        764085dd6d  \n2        764085dd6d  \n3        764085dd6d  \n4        764085dd6d  \n...             ...  \n1354939  976ee07d8c  \n1354940  976ee07d8c  \n1354941  976ee07d8c  \n1354942  976ee07d8c  \n1354943  976ee07d8c  \n\n[1354944 rows x 27 columns]",
      "text/html": "<div>\n<style scoped>\n    .dataframe tbody tr th:only-of-type {\n        vertical-align: middle;\n    }\n\n    .dataframe tbody tr th {\n        vertical-align: top;\n    }\n\n    .dataframe thead th {\n        text-align: right;\n    }\n</style>\n<table border=\"1\" class=\"dataframe\">\n  <thead>\n    <tr style=\"text-align: right;\">\n      <th></th>\n      <th>case:concept:name</th>\n      <th>concept:name</th>\n      <th>time:timestamp</th>\n      <th>CAT_ATTR_16</th>\n      <th>CAT_ATTR_01</th>\n      <th>CAT_ATTR_17</th>\n      <th>CAT_ATTR_02</th>\n      <th>CAT_ATTR_03</th>\n      <th>CAT_ATTR_18</th>\n      <th>CAT_ATTR_04</th>\n      <th>...</th>\n      <th>CAT_ATTR_11</th>\n      <th>CAT_ATTR_19</th>\n      <th>CAT_ATTR_12</th>\n      <th>CAT_ATTR_13</th>\n      <th>CAT_ATTR_14</th>\n      <th>NUM_ATTR_02</th>\n      <th>NUM_ATTR_03</th>\n      <th>CAT_ATTR_15</th>\n      <th>NUM_ATTR_04</th>\n      <th>CAT_ATTR_20</th>\n    </tr>\n  </thead>\n  <tbody>\n    <tr>\n      <th>0</th>\n      <td>0</td>\n      <td>S</td>\n      <td>2024-01-25 14:33:20+00:00</td>\n      <td>3eb6aa9438</td>\n      <td>6c36293365</td>\n      <td>27467fd3d4</td>\n      <td>5085f0136f</td>\n      <td>b5a5436b41</td>\n      <td>5f130f9cbb</td>\n      <td>8b55872505</td>\n      <td>...</td>\n      <td>10cd4a11ff</td>\n      <td>ac3a612816</td>\n      <td>b5a5436b41</td>\n      <td>4437136378</td>\n      <td>NaN</td>\n      <td>1</td>\n      <td>8.0</td>\n      <td>666696117f</td>\n      <td>1.0</td>\n      <td>764085dd6d</td>\n    </tr>\n    <tr>\n      <th>1</th>\n      <td>0</td>\n      <td>A005</td>\n      <td>2024-01-25 14:33:20+00:00</td>\n      <td>3eb6aa9438</td>\n      <td>6c36293365</td>\n      <td>27467fd3d4</td>\n      <td>5085f0136f</td>\n      <td>b5a5436b41</td>\n      <td>5f130f9cbb</td>\n      <td>8b55872505</td>\n      <td>...</td>\n      <td>10cd4a11ff</td>\n      <td>ac3a612816</td>\n      <td>b5a5436b41</td>\n      <td>4437136378</td>\n      <td>NaN</td>\n      <td>1</td>\n      <td>8.0</td>\n      <td>666696117f</td>\n      <td>1.0</td>\n      <td>764085dd6d</td>\n    </tr>\n    <tr>\n      <th>2</th>\n      <td>0</td>\n      <td>A045</td>\n      <td>2024-01-25 14:36:28+00:00</td>\n      <td>3eb6aa9438</td>\n      <td>6c36293365</td>\n      <td>27467fd3d4</td>\n      <td>5085f0136f</td>\n      <td>b5a5436b41</td>\n      <td>5f130f9cbb</td>\n      <td>8b55872505</td>\n      <td>...</td>\n      <td>10cd4a11ff</td>\n      <td>ac3a612816</td>\n      <td>b5a5436b41</td>\n      <td>4437136378</td>\n      <td>NaN</td>\n      <td>1</td>\n      <td>8.0</td>\n      <td>666696117f</td>\n      <td>1.0</td>\n      <td>764085dd6d</td>\n    </tr>\n    <tr>\n      <th>3</th>\n      <td>0</td>\n      <td>A010</td>\n      <td>2024-01-25 14:41:58+00:00</td>\n      <td>3eb6aa9438</td>\n      <td>6c36293365</td>\n      <td>27467fd3d4</td>\n      <td>5085f0136f</td>\n      <td>b5a5436b41</td>\n      <td>5f130f9cbb</td>\n      <td>8b55872505</td>\n      <td>...</td>\n      <td>10cd4a11ff</td>\n      <td>ac3a612816</td>\n      <td>b5a5436b41</td>\n      <td>4437136378</td>\n      <td>NaN</td>\n      <td>1</td>\n      <td>8.0</td>\n      <td>666696117f</td>\n      <td>1.0</td>\n      <td>764085dd6d</td>\n    </tr>\n    <tr>\n      <th>4</th>\n      <td>0</td>\n      <td>A015</td>\n      <td>2024-01-25 14:42:00+00:00</td>\n      <td>3eb6aa9438</td>\n      <td>6c36293365</td>\n      <td>27467fd3d4</td>\n      <td>5085f0136f</td>\n      <td>b5a5436b41</td>\n      <td>5f130f9cbb</td>\n      <td>8b55872505</td>\n      <td>...</td>\n      <td>10cd4a11ff</td>\n      <td>ac3a612816</td>\n      <td>b5a5436b41</td>\n      <td>4437136378</td>\n      <td>NaN</td>\n      <td>1</td>\n      <td>8.0</td>\n      <td>666696117f</td>\n      <td>1.0</td>\n      <td>764085dd6d</td>\n    </tr>\n    <tr>\n      <th>...</th>\n      <td>...</td>\n      <td>...</td>\n      <td>...</td>\n      <td>...</td>\n      <td>...</td>\n      <td>...</td>\n      <td>...</td>\n      <td>...</td>\n      <td>...</td>\n      <td>...</td>\n      <td>...</td>\n      <td>...</td>\n      <td>...</td>\n      <td>...</td>\n      <td>...</td>\n      <td>...</td>\n      <td>...</td>\n      <td>...</td>\n      <td>...</td>\n      <td>...</td>\n      <td>...</td>\n    </tr>\n    <tr>\n      <th>1354939</th>\n      <td>169523</td>\n      <td>A045</td>\n      <td>2024-02-13 09:28:40+00:00</td>\n      <td>ee63175717</td>\n      <td>ed678151f1</td>\n      <td>27467fd3d4</td>\n      <td>5085f0136f</td>\n      <td>68b549aba1</td>\n      <td>6dd325831c</td>\n      <td>536251a4bb</td>\n      <td>...</td>\n      <td>10cd4a11ff</td>\n      <td>ac3a612816</td>\n      <td>22b61cbf8c</td>\n      <td>4437136378</td>\n      <td>NaN</td>\n      <td>1</td>\n      <td>0.9</td>\n      <td>e53bbc86dd</td>\n      <td>1.0</td>\n      <td>976ee07d8c</td>\n    </tr>\n    <tr>\n      <th>1354940</th>\n      <td>169523</td>\n      <td>A010</td>\n      <td>2024-02-13 09:28:43+00:00</td>\n      <td>ee63175717</td>\n      <td>ed678151f1</td>\n      <td>27467fd3d4</td>\n      <td>5085f0136f</td>\n      <td>68b549aba1</td>\n      <td>6dd325831c</td>\n      <td>536251a4bb</td>\n      <td>...</td>\n      <td>10cd4a11ff</td>\n      <td>ac3a612816</td>\n      <td>22b61cbf8c</td>\n      <td>4437136378</td>\n      <td>NaN</td>\n      <td>1</td>\n      <td>0.9</td>\n      <td>e53bbc86dd</td>\n      <td>1.0</td>\n      <td>976ee07d8c</td>\n    </tr>\n    <tr>\n      <th>1354941</th>\n      <td>169523</td>\n      <td>A015</td>\n      <td>2024-02-13 09:28:43+00:00</td>\n      <td>ee63175717</td>\n      <td>ed678151f1</td>\n      <td>27467fd3d4</td>\n      <td>5085f0136f</td>\n      <td>68b549aba1</td>\n      <td>6dd325831c</td>\n      <td>536251a4bb</td>\n      <td>...</td>\n      <td>10cd4a11ff</td>\n      <td>ac3a612816</td>\n      <td>22b61cbf8c</td>\n      <td>4437136378</td>\n      <td>NaN</td>\n      <td>1</td>\n      <td>0.9</td>\n      <td>e53bbc86dd</td>\n      <td>1.0</td>\n      <td>976ee07d8c</td>\n    </tr>\n    <tr>\n      <th>1354942</th>\n      <td>169523</td>\n      <td>A020</td>\n      <td>2024-02-13 09:28:46+00:00</td>\n      <td>ee63175717</td>\n      <td>ed678151f1</td>\n      <td>27467fd3d4</td>\n      <td>5085f0136f</td>\n      <td>68b549aba1</td>\n      <td>6dd325831c</td>\n      <td>536251a4bb</td>\n      <td>...</td>\n      <td>10cd4a11ff</td>\n      <td>ac3a612816</td>\n      <td>22b61cbf8c</td>\n      <td>4437136378</td>\n      <td>NaN</td>\n      <td>1</td>\n      <td>0.9</td>\n      <td>e53bbc86dd</td>\n      <td>1.0</td>\n      <td>976ee07d8c</td>\n    </tr>\n    <tr>\n      <th>1354943</th>\n      <td>169523</td>\n      <td>A120</td>\n      <td>2024-02-13 09:36:32+00:00</td>\n      <td>ee63175717</td>\n      <td>ed678151f1</td>\n      <td>27467fd3d4</td>\n      <td>5085f0136f</td>\n      <td>68b549aba1</td>\n      <td>6dd325831c</td>\n      <td>536251a4bb</td>\n      <td>...</td>\n      <td>10cd4a11ff</td>\n      <td>ac3a612816</td>\n      <td>22b61cbf8c</td>\n      <td>4437136378</td>\n      <td>NaN</td>\n      <td>1</td>\n      <td>0.9</td>\n      <td>e53bbc86dd</td>\n      <td>1.0</td>\n      <td>976ee07d8c</td>\n    </tr>\n  </tbody>\n</table>\n<p>1354944 rows × 27 columns</p>\n</div>"
     },
     "execution_count": 25,
     "metadata": {},
     "output_type": "execute_result"
    }
   ],
   "source": [
    "### Complete event log\n",
    "dataset_name = 'outbound_2024_ext_obfuscated'\n",
    "df = pd.read_csv(input_dataset_location + '/' + dataset_name + '.csv', index_col=False)\n",
    "\n",
    "df['time:timestamp'] = pd.to_datetime(df['time:timestamp'], format = 'mixed').dt.tz_convert('UTC')\n",
    "df = df.astype({'case:concept:name': str})\n",
    "df"
   ],
   "metadata": {
    "collapsed": false
   }
  },
  {
   "cell_type": "code",
   "execution_count": 26,
   "outputs": [
    {
     "data": {
      "text/plain": "array(['0', '1', '2', ..., '169521', '169522', '169523'], dtype=object)"
     },
     "execution_count": 26,
     "metadata": {},
     "output_type": "execute_result"
    }
   ],
   "source": [
    "df['case:concept:name'].unique()"
   ],
   "metadata": {
    "collapsed": false
   }
  },
  {
   "cell_type": "code",
   "execution_count": 22,
   "metadata": {
    "collapsed": false,
    "jupyter": {
     "outputs_hidden": false
    }
   },
   "outputs": [
    {
     "data": {
      "text/plain": "        case:concept:name concept:name            time:timestamp CAT_ATTR_01  \\\n0                       0            S 2024-01-25 14:33:20+00:00  6c36293365   \n1                       0         A005 2024-01-25 14:33:20+00:00  6c36293365   \n2                       0         A045 2024-01-25 14:36:28+00:00  6c36293365   \n3                       0         A010 2024-01-25 14:41:58+00:00  6c36293365   \n4                       0         A015 2024-01-25 14:42:00+00:00  6c36293365   \n...                   ...          ...                       ...         ...   \n1043550             99999         A045 2024-08-09 18:52:22+00:00  666fe55ad2   \n1043551             99999         A010 2024-08-09 20:04:02+00:00  666fe55ad2   \n1043552             99999         A015 2024-08-09 20:08:58+00:00  666fe55ad2   \n1043553             99999         A020 2024-08-12 06:27:20+00:00  666fe55ad2   \n1043554             99999         A120 2024-08-13 13:50:47+00:00  666fe55ad2   \n\n        CAT_ATTR_02 CAT_ATTR_03 CAT_ATTR_04 CAT_ATTR_05 CAT_ATTR_06  \\\n0        5085f0136f  b5a5436b41  8b55872505  10cd4a11ff  dc46be8151   \n1        5085f0136f  b5a5436b41  8b55872505  10cd4a11ff  dc46be8151   \n2        5085f0136f  b5a5436b41  8b55872505  10cd4a11ff  dc46be8151   \n3        5085f0136f  b5a5436b41  8b55872505  10cd4a11ff  dc46be8151   \n4        5085f0136f  b5a5436b41  8b55872505  10cd4a11ff  dc46be8151   \n...             ...         ...         ...         ...         ...   \n1043550  5085f0136f  2c83fb1cbd  bcaaba821f  10cd4a11ff  1e63351163   \n1043551  5085f0136f  2c83fb1cbd  bcaaba821f  10cd4a11ff  1e63351163   \n1043552  5085f0136f  2c83fb1cbd  bcaaba821f  10cd4a11ff  1e63351163   \n1043553  5085f0136f  2c83fb1cbd  bcaaba821f  10cd4a11ff  1e63351163   \n1043554  5085f0136f  2c83fb1cbd  bcaaba821f  10cd4a11ff  1e63351163   \n\n        CAT_ATTR_07  ... CAT_ATTR_10 NUM_ATTR_01 CAT_ATTR_11  CAT_ATTR_12  \\\n0        6a0df73614  ...  606daee8ed         1.0  10cd4a11ff   b5a5436b41   \n1        6a0df73614  ...  606daee8ed         1.0  10cd4a11ff   b5a5436b41   \n2        6a0df73614  ...  606daee8ed         1.0  10cd4a11ff   b5a5436b41   \n3        6a0df73614  ...  606daee8ed         1.0  10cd4a11ff   b5a5436b41   \n4        6a0df73614  ...  606daee8ed         1.0  10cd4a11ff   b5a5436b41   \n...             ...  ...         ...         ...         ...          ...   \n1043550  6a0df73614  ...  606daee8ed         1.0  10cd4a11ff   62cfb91b6d   \n1043551  6a0df73614  ...  606daee8ed         1.0  10cd4a11ff   62cfb91b6d   \n1043552  6a0df73614  ...  606daee8ed         1.0  10cd4a11ff   62cfb91b6d   \n1043553  6a0df73614  ...  606daee8ed         1.0  10cd4a11ff   62cfb91b6d   \n1043554  6a0df73614  ...  606daee8ed         1.0  10cd4a11ff   62cfb91b6d   \n\n        CAT_ATTR_13 CAT_ATTR_14 NUM_ATTR_02 NUM_ATTR_03  CAT_ATTR_15  \\\n0        4437136378  4437136378           1         8.0   666696117f   \n1        4437136378  4437136378           1         8.0   666696117f   \n2        4437136378  4437136378           1         8.0   666696117f   \n3        4437136378  4437136378           1         8.0   666696117f   \n4        4437136378  4437136378           1         8.0   666696117f   \n...             ...         ...         ...         ...          ...   \n1043550  4437136378  3f63433675           1         5.9   1d6b6961de   \n1043551  4437136378  3f63433675           1         5.9   1d6b6961de   \n1043552  4437136378  3f63433675           1         5.9   1d6b6961de   \n1043553  4437136378  3f63433675           1         5.9   1d6b6961de   \n1043554  4437136378  3f63433675           1         5.9   1d6b6961de   \n\n         NUM_ATTR_04  \n0                1.0  \n1                1.0  \n2                1.0  \n3                1.0  \n4                1.0  \n...              ...  \n1043550          1.0  \n1043551          1.0  \n1043552          1.0  \n1043553          1.0  \n1043554          1.0  \n\n[1043555 rows x 22 columns]",
      "text/html": "<div>\n<style scoped>\n    .dataframe tbody tr th:only-of-type {\n        vertical-align: middle;\n    }\n\n    .dataframe tbody tr th {\n        vertical-align: top;\n    }\n\n    .dataframe thead th {\n        text-align: right;\n    }\n</style>\n<table border=\"1\" class=\"dataframe\">\n  <thead>\n    <tr style=\"text-align: right;\">\n      <th></th>\n      <th>case:concept:name</th>\n      <th>concept:name</th>\n      <th>time:timestamp</th>\n      <th>CAT_ATTR_01</th>\n      <th>CAT_ATTR_02</th>\n      <th>CAT_ATTR_03</th>\n      <th>CAT_ATTR_04</th>\n      <th>CAT_ATTR_05</th>\n      <th>CAT_ATTR_06</th>\n      <th>CAT_ATTR_07</th>\n      <th>...</th>\n      <th>CAT_ATTR_10</th>\n      <th>NUM_ATTR_01</th>\n      <th>CAT_ATTR_11</th>\n      <th>CAT_ATTR_12</th>\n      <th>CAT_ATTR_13</th>\n      <th>CAT_ATTR_14</th>\n      <th>NUM_ATTR_02</th>\n      <th>NUM_ATTR_03</th>\n      <th>CAT_ATTR_15</th>\n      <th>NUM_ATTR_04</th>\n    </tr>\n  </thead>\n  <tbody>\n    <tr>\n      <th>0</th>\n      <td>0</td>\n      <td>S</td>\n      <td>2024-01-25 14:33:20+00:00</td>\n      <td>6c36293365</td>\n      <td>5085f0136f</td>\n      <td>b5a5436b41</td>\n      <td>8b55872505</td>\n      <td>10cd4a11ff</td>\n      <td>dc46be8151</td>\n      <td>6a0df73614</td>\n      <td>...</td>\n      <td>606daee8ed</td>\n      <td>1.0</td>\n      <td>10cd4a11ff</td>\n      <td>b5a5436b41</td>\n      <td>4437136378</td>\n      <td>4437136378</td>\n      <td>1</td>\n      <td>8.0</td>\n      <td>666696117f</td>\n      <td>1.0</td>\n    </tr>\n    <tr>\n      <th>1</th>\n      <td>0</td>\n      <td>A005</td>\n      <td>2024-01-25 14:33:20+00:00</td>\n      <td>6c36293365</td>\n      <td>5085f0136f</td>\n      <td>b5a5436b41</td>\n      <td>8b55872505</td>\n      <td>10cd4a11ff</td>\n      <td>dc46be8151</td>\n      <td>6a0df73614</td>\n      <td>...</td>\n      <td>606daee8ed</td>\n      <td>1.0</td>\n      <td>10cd4a11ff</td>\n      <td>b5a5436b41</td>\n      <td>4437136378</td>\n      <td>4437136378</td>\n      <td>1</td>\n      <td>8.0</td>\n      <td>666696117f</td>\n      <td>1.0</td>\n    </tr>\n    <tr>\n      <th>2</th>\n      <td>0</td>\n      <td>A045</td>\n      <td>2024-01-25 14:36:28+00:00</td>\n      <td>6c36293365</td>\n      <td>5085f0136f</td>\n      <td>b5a5436b41</td>\n      <td>8b55872505</td>\n      <td>10cd4a11ff</td>\n      <td>dc46be8151</td>\n      <td>6a0df73614</td>\n      <td>...</td>\n      <td>606daee8ed</td>\n      <td>1.0</td>\n      <td>10cd4a11ff</td>\n      <td>b5a5436b41</td>\n      <td>4437136378</td>\n      <td>4437136378</td>\n      <td>1</td>\n      <td>8.0</td>\n      <td>666696117f</td>\n      <td>1.0</td>\n    </tr>\n    <tr>\n      <th>3</th>\n      <td>0</td>\n      <td>A010</td>\n      <td>2024-01-25 14:41:58+00:00</td>\n      <td>6c36293365</td>\n      <td>5085f0136f</td>\n      <td>b5a5436b41</td>\n      <td>8b55872505</td>\n      <td>10cd4a11ff</td>\n      <td>dc46be8151</td>\n      <td>6a0df73614</td>\n      <td>...</td>\n      <td>606daee8ed</td>\n      <td>1.0</td>\n      <td>10cd4a11ff</td>\n      <td>b5a5436b41</td>\n      <td>4437136378</td>\n      <td>4437136378</td>\n      <td>1</td>\n      <td>8.0</td>\n      <td>666696117f</td>\n      <td>1.0</td>\n    </tr>\n    <tr>\n      <th>4</th>\n      <td>0</td>\n      <td>A015</td>\n      <td>2024-01-25 14:42:00+00:00</td>\n      <td>6c36293365</td>\n      <td>5085f0136f</td>\n      <td>b5a5436b41</td>\n      <td>8b55872505</td>\n      <td>10cd4a11ff</td>\n      <td>dc46be8151</td>\n      <td>6a0df73614</td>\n      <td>...</td>\n      <td>606daee8ed</td>\n      <td>1.0</td>\n      <td>10cd4a11ff</td>\n      <td>b5a5436b41</td>\n      <td>4437136378</td>\n      <td>4437136378</td>\n      <td>1</td>\n      <td>8.0</td>\n      <td>666696117f</td>\n      <td>1.0</td>\n    </tr>\n    <tr>\n      <th>...</th>\n      <td>...</td>\n      <td>...</td>\n      <td>...</td>\n      <td>...</td>\n      <td>...</td>\n      <td>...</td>\n      <td>...</td>\n      <td>...</td>\n      <td>...</td>\n      <td>...</td>\n      <td>...</td>\n      <td>...</td>\n      <td>...</td>\n      <td>...</td>\n      <td>...</td>\n      <td>...</td>\n      <td>...</td>\n      <td>...</td>\n      <td>...</td>\n      <td>...</td>\n      <td>...</td>\n    </tr>\n    <tr>\n      <th>1043550</th>\n      <td>99999</td>\n      <td>A045</td>\n      <td>2024-08-09 18:52:22+00:00</td>\n      <td>666fe55ad2</td>\n      <td>5085f0136f</td>\n      <td>2c83fb1cbd</td>\n      <td>bcaaba821f</td>\n      <td>10cd4a11ff</td>\n      <td>1e63351163</td>\n      <td>6a0df73614</td>\n      <td>...</td>\n      <td>606daee8ed</td>\n      <td>1.0</td>\n      <td>10cd4a11ff</td>\n      <td>62cfb91b6d</td>\n      <td>4437136378</td>\n      <td>3f63433675</td>\n      <td>1</td>\n      <td>5.9</td>\n      <td>1d6b6961de</td>\n      <td>1.0</td>\n    </tr>\n    <tr>\n      <th>1043551</th>\n      <td>99999</td>\n      <td>A010</td>\n      <td>2024-08-09 20:04:02+00:00</td>\n      <td>666fe55ad2</td>\n      <td>5085f0136f</td>\n      <td>2c83fb1cbd</td>\n      <td>bcaaba821f</td>\n      <td>10cd4a11ff</td>\n      <td>1e63351163</td>\n      <td>6a0df73614</td>\n      <td>...</td>\n      <td>606daee8ed</td>\n      <td>1.0</td>\n      <td>10cd4a11ff</td>\n      <td>62cfb91b6d</td>\n      <td>4437136378</td>\n      <td>3f63433675</td>\n      <td>1</td>\n      <td>5.9</td>\n      <td>1d6b6961de</td>\n      <td>1.0</td>\n    </tr>\n    <tr>\n      <th>1043552</th>\n      <td>99999</td>\n      <td>A015</td>\n      <td>2024-08-09 20:08:58+00:00</td>\n      <td>666fe55ad2</td>\n      <td>5085f0136f</td>\n      <td>2c83fb1cbd</td>\n      <td>bcaaba821f</td>\n      <td>10cd4a11ff</td>\n      <td>1e63351163</td>\n      <td>6a0df73614</td>\n      <td>...</td>\n      <td>606daee8ed</td>\n      <td>1.0</td>\n      <td>10cd4a11ff</td>\n      <td>62cfb91b6d</td>\n      <td>4437136378</td>\n      <td>3f63433675</td>\n      <td>1</td>\n      <td>5.9</td>\n      <td>1d6b6961de</td>\n      <td>1.0</td>\n    </tr>\n    <tr>\n      <th>1043553</th>\n      <td>99999</td>\n      <td>A020</td>\n      <td>2024-08-12 06:27:20+00:00</td>\n      <td>666fe55ad2</td>\n      <td>5085f0136f</td>\n      <td>2c83fb1cbd</td>\n      <td>bcaaba821f</td>\n      <td>10cd4a11ff</td>\n      <td>1e63351163</td>\n      <td>6a0df73614</td>\n      <td>...</td>\n      <td>606daee8ed</td>\n      <td>1.0</td>\n      <td>10cd4a11ff</td>\n      <td>62cfb91b6d</td>\n      <td>4437136378</td>\n      <td>3f63433675</td>\n      <td>1</td>\n      <td>5.9</td>\n      <td>1d6b6961de</td>\n      <td>1.0</td>\n    </tr>\n    <tr>\n      <th>1043554</th>\n      <td>99999</td>\n      <td>A120</td>\n      <td>2024-08-13 13:50:47+00:00</td>\n      <td>666fe55ad2</td>\n      <td>5085f0136f</td>\n      <td>2c83fb1cbd</td>\n      <td>bcaaba821f</td>\n      <td>10cd4a11ff</td>\n      <td>1e63351163</td>\n      <td>6a0df73614</td>\n      <td>...</td>\n      <td>606daee8ed</td>\n      <td>1.0</td>\n      <td>10cd4a11ff</td>\n      <td>62cfb91b6d</td>\n      <td>4437136378</td>\n      <td>3f63433675</td>\n      <td>1</td>\n      <td>5.9</td>\n      <td>1d6b6961de</td>\n      <td>1.0</td>\n    </tr>\n  </tbody>\n</table>\n<p>1043555 rows × 22 columns</p>\n</div>"
     },
     "execution_count": 22,
     "metadata": {},
     "output_type": "execute_result"
    }
   ],
   "source": [
    "### Pre-processing step 1 event log\n",
    "dataset_name = 'outbound_2024_obfuscated'\n",
    "df = pd.read_csv(input_dataset_location + '/' + dataset_name + '.csv', index_col=False)\n",
    "\n",
    "df['time:timestamp'] = pd.to_datetime(df['time:timestamp'], format = 'mixed').dt.tz_convert('UTC')\n",
    "df = df.astype({'case:concept:name': str})\n",
    "df"
   ]
  },
  {
   "cell_type": "code",
   "execution_count": 23,
   "outputs": [
    {
     "data": {
      "text/plain": "array(['0', '1', '10', ..., '99996', '99997', '99999'], dtype=object)"
     },
     "execution_count": 23,
     "metadata": {},
     "output_type": "execute_result"
    }
   ],
   "source": [
    "df['case:concept:name'].unique()"
   ],
   "metadata": {
    "collapsed": false
   }
  },
  {
   "cell_type": "code",
   "execution_count": 20,
   "outputs": [
    {
     "data": {
      "text/plain": "       case:concept:name concept:name            time:timestamp CAT_ATTR_01  \\\n0                   1000            S 2024-08-26 13:46:04+00:00  6c36293365   \n1                   1000         A005 2024-08-26 13:46:04+00:00  6c36293365   \n2                   1000         A045 2024-08-26 13:47:45+00:00  6c36293365   \n3                   1000         A010 2024-08-27 12:24:39+00:00  6c36293365   \n4                   1000         A015 2024-08-27 12:38:04+00:00  6c36293365   \n...                  ...          ...                       ...         ...   \n330704             99999         A045 2024-08-09 18:52:22+00:00  666fe55ad2   \n330705             99999         A010 2024-08-09 20:04:02+00:00  666fe55ad2   \n330706             99999         A015 2024-08-09 20:08:58+00:00  666fe55ad2   \n330707             99999         A020 2024-08-12 06:27:20+00:00  666fe55ad2   \n330708             99999         A120 2024-08-13 13:50:47+00:00  666fe55ad2   \n\n       CAT_ATTR_02 CAT_ATTR_03 CAT_ATTR_04 CAT_ATTR_05 CAT_ATTR_06  \\\n0       697a8e6f1a  b5a5436b41  536251a4bb  10cd4a11ff  8e92277c8d   \n1       697a8e6f1a  b5a5436b41  536251a4bb  10cd4a11ff  8e92277c8d   \n2       697a8e6f1a  b5a5436b41  536251a4bb  10cd4a11ff  8e92277c8d   \n3       697a8e6f1a  b5a5436b41  536251a4bb  10cd4a11ff  8e92277c8d   \n4       697a8e6f1a  b5a5436b41  536251a4bb  10cd4a11ff  8e92277c8d   \n...            ...         ...         ...         ...         ...   \n330704  5085f0136f  2c83fb1cbd  bcaaba821f  10cd4a11ff  1e63351163   \n330705  5085f0136f  2c83fb1cbd  bcaaba821f  10cd4a11ff  1e63351163   \n330706  5085f0136f  2c83fb1cbd  bcaaba821f  10cd4a11ff  1e63351163   \n330707  5085f0136f  2c83fb1cbd  bcaaba821f  10cd4a11ff  1e63351163   \n330708  5085f0136f  2c83fb1cbd  bcaaba821f  10cd4a11ff  1e63351163   \n\n       CAT_ATTR_07  ... NUM_ATTR_01 CAT_ATTR_11 CAT_ATTR_12  CAT_ATTR_13  \\\n0       6a0df73614  ...         1.0  10cd4a11ff  b5a5436b41   4437136378   \n1       6a0df73614  ...         1.0  10cd4a11ff  b5a5436b41   4437136378   \n2       6a0df73614  ...         1.0  10cd4a11ff  b5a5436b41   4437136378   \n3       6a0df73614  ...         1.0  10cd4a11ff  b5a5436b41   4437136378   \n4       6a0df73614  ...         1.0  10cd4a11ff  b5a5436b41   4437136378   \n...            ...  ...         ...         ...         ...          ...   \n330704  6a0df73614  ...         1.0  10cd4a11ff  62cfb91b6d   4437136378   \n330705  6a0df73614  ...         1.0  10cd4a11ff  62cfb91b6d   4437136378   \n330706  6a0df73614  ...         1.0  10cd4a11ff  62cfb91b6d   4437136378   \n330707  6a0df73614  ...         1.0  10cd4a11ff  62cfb91b6d   4437136378   \n330708  6a0df73614  ...         1.0  10cd4a11ff  62cfb91b6d   4437136378   \n\n       CAT_ATTR_14 NUM_ATTR_02 NUM_ATTR_03 CAT_ATTR_15  NUM_ATTR_04  \\\n0       3f63433675           1        31.9  1d6b6961de          1.0   \n1       3f63433675           1        31.9  1d6b6961de          1.0   \n2       3f63433675           1        31.9  1d6b6961de          1.0   \n3       3f63433675           1        31.9  1d6b6961de          1.0   \n4       3f63433675           1        31.9  1d6b6961de          1.0   \n...            ...         ...         ...         ...          ...   \n330704  3f63433675           1         5.9  1d6b6961de          1.0   \n330705  3f63433675           1         5.9  1d6b6961de          1.0   \n330706  3f63433675           1         5.9  1d6b6961de          1.0   \n330707  3f63433675           1         5.9  1d6b6961de          1.0   \n330708  3f63433675           1         5.9  1d6b6961de          1.0   \n\n        concurrent_cases  \n0                    288  \n1                    288  \n2                    289  \n3                    498  \n4                    498  \n...                  ...  \n330704               319  \n330705               316  \n330706               316  \n330707               245  \n330708               276  \n\n[330709 rows x 23 columns]",
      "text/html": "<div>\n<style scoped>\n    .dataframe tbody tr th:only-of-type {\n        vertical-align: middle;\n    }\n\n    .dataframe tbody tr th {\n        vertical-align: top;\n    }\n\n    .dataframe thead th {\n        text-align: right;\n    }\n</style>\n<table border=\"1\" class=\"dataframe\">\n  <thead>\n    <tr style=\"text-align: right;\">\n      <th></th>\n      <th>case:concept:name</th>\n      <th>concept:name</th>\n      <th>time:timestamp</th>\n      <th>CAT_ATTR_01</th>\n      <th>CAT_ATTR_02</th>\n      <th>CAT_ATTR_03</th>\n      <th>CAT_ATTR_04</th>\n      <th>CAT_ATTR_05</th>\n      <th>CAT_ATTR_06</th>\n      <th>CAT_ATTR_07</th>\n      <th>...</th>\n      <th>NUM_ATTR_01</th>\n      <th>CAT_ATTR_11</th>\n      <th>CAT_ATTR_12</th>\n      <th>CAT_ATTR_13</th>\n      <th>CAT_ATTR_14</th>\n      <th>NUM_ATTR_02</th>\n      <th>NUM_ATTR_03</th>\n      <th>CAT_ATTR_15</th>\n      <th>NUM_ATTR_04</th>\n      <th>concurrent_cases</th>\n    </tr>\n  </thead>\n  <tbody>\n    <tr>\n      <th>0</th>\n      <td>1000</td>\n      <td>S</td>\n      <td>2024-08-26 13:46:04+00:00</td>\n      <td>6c36293365</td>\n      <td>697a8e6f1a</td>\n      <td>b5a5436b41</td>\n      <td>536251a4bb</td>\n      <td>10cd4a11ff</td>\n      <td>8e92277c8d</td>\n      <td>6a0df73614</td>\n      <td>...</td>\n      <td>1.0</td>\n      <td>10cd4a11ff</td>\n      <td>b5a5436b41</td>\n      <td>4437136378</td>\n      <td>3f63433675</td>\n      <td>1</td>\n      <td>31.9</td>\n      <td>1d6b6961de</td>\n      <td>1.0</td>\n      <td>288</td>\n    </tr>\n    <tr>\n      <th>1</th>\n      <td>1000</td>\n      <td>A005</td>\n      <td>2024-08-26 13:46:04+00:00</td>\n      <td>6c36293365</td>\n      <td>697a8e6f1a</td>\n      <td>b5a5436b41</td>\n      <td>536251a4bb</td>\n      <td>10cd4a11ff</td>\n      <td>8e92277c8d</td>\n      <td>6a0df73614</td>\n      <td>...</td>\n      <td>1.0</td>\n      <td>10cd4a11ff</td>\n      <td>b5a5436b41</td>\n      <td>4437136378</td>\n      <td>3f63433675</td>\n      <td>1</td>\n      <td>31.9</td>\n      <td>1d6b6961de</td>\n      <td>1.0</td>\n      <td>288</td>\n    </tr>\n    <tr>\n      <th>2</th>\n      <td>1000</td>\n      <td>A045</td>\n      <td>2024-08-26 13:47:45+00:00</td>\n      <td>6c36293365</td>\n      <td>697a8e6f1a</td>\n      <td>b5a5436b41</td>\n      <td>536251a4bb</td>\n      <td>10cd4a11ff</td>\n      <td>8e92277c8d</td>\n      <td>6a0df73614</td>\n      <td>...</td>\n      <td>1.0</td>\n      <td>10cd4a11ff</td>\n      <td>b5a5436b41</td>\n      <td>4437136378</td>\n      <td>3f63433675</td>\n      <td>1</td>\n      <td>31.9</td>\n      <td>1d6b6961de</td>\n      <td>1.0</td>\n      <td>289</td>\n    </tr>\n    <tr>\n      <th>3</th>\n      <td>1000</td>\n      <td>A010</td>\n      <td>2024-08-27 12:24:39+00:00</td>\n      <td>6c36293365</td>\n      <td>697a8e6f1a</td>\n      <td>b5a5436b41</td>\n      <td>536251a4bb</td>\n      <td>10cd4a11ff</td>\n      <td>8e92277c8d</td>\n      <td>6a0df73614</td>\n      <td>...</td>\n      <td>1.0</td>\n      <td>10cd4a11ff</td>\n      <td>b5a5436b41</td>\n      <td>4437136378</td>\n      <td>3f63433675</td>\n      <td>1</td>\n      <td>31.9</td>\n      <td>1d6b6961de</td>\n      <td>1.0</td>\n      <td>498</td>\n    </tr>\n    <tr>\n      <th>4</th>\n      <td>1000</td>\n      <td>A015</td>\n      <td>2024-08-27 12:38:04+00:00</td>\n      <td>6c36293365</td>\n      <td>697a8e6f1a</td>\n      <td>b5a5436b41</td>\n      <td>536251a4bb</td>\n      <td>10cd4a11ff</td>\n      <td>8e92277c8d</td>\n      <td>6a0df73614</td>\n      <td>...</td>\n      <td>1.0</td>\n      <td>10cd4a11ff</td>\n      <td>b5a5436b41</td>\n      <td>4437136378</td>\n      <td>3f63433675</td>\n      <td>1</td>\n      <td>31.9</td>\n      <td>1d6b6961de</td>\n      <td>1.0</td>\n      <td>498</td>\n    </tr>\n    <tr>\n      <th>...</th>\n      <td>...</td>\n      <td>...</td>\n      <td>...</td>\n      <td>...</td>\n      <td>...</td>\n      <td>...</td>\n      <td>...</td>\n      <td>...</td>\n      <td>...</td>\n      <td>...</td>\n      <td>...</td>\n      <td>...</td>\n      <td>...</td>\n      <td>...</td>\n      <td>...</td>\n      <td>...</td>\n      <td>...</td>\n      <td>...</td>\n      <td>...</td>\n      <td>...</td>\n      <td>...</td>\n    </tr>\n    <tr>\n      <th>330704</th>\n      <td>99999</td>\n      <td>A045</td>\n      <td>2024-08-09 18:52:22+00:00</td>\n      <td>666fe55ad2</td>\n      <td>5085f0136f</td>\n      <td>2c83fb1cbd</td>\n      <td>bcaaba821f</td>\n      <td>10cd4a11ff</td>\n      <td>1e63351163</td>\n      <td>6a0df73614</td>\n      <td>...</td>\n      <td>1.0</td>\n      <td>10cd4a11ff</td>\n      <td>62cfb91b6d</td>\n      <td>4437136378</td>\n      <td>3f63433675</td>\n      <td>1</td>\n      <td>5.9</td>\n      <td>1d6b6961de</td>\n      <td>1.0</td>\n      <td>319</td>\n    </tr>\n    <tr>\n      <th>330705</th>\n      <td>99999</td>\n      <td>A010</td>\n      <td>2024-08-09 20:04:02+00:00</td>\n      <td>666fe55ad2</td>\n      <td>5085f0136f</td>\n      <td>2c83fb1cbd</td>\n      <td>bcaaba821f</td>\n      <td>10cd4a11ff</td>\n      <td>1e63351163</td>\n      <td>6a0df73614</td>\n      <td>...</td>\n      <td>1.0</td>\n      <td>10cd4a11ff</td>\n      <td>62cfb91b6d</td>\n      <td>4437136378</td>\n      <td>3f63433675</td>\n      <td>1</td>\n      <td>5.9</td>\n      <td>1d6b6961de</td>\n      <td>1.0</td>\n      <td>316</td>\n    </tr>\n    <tr>\n      <th>330706</th>\n      <td>99999</td>\n      <td>A015</td>\n      <td>2024-08-09 20:08:58+00:00</td>\n      <td>666fe55ad2</td>\n      <td>5085f0136f</td>\n      <td>2c83fb1cbd</td>\n      <td>bcaaba821f</td>\n      <td>10cd4a11ff</td>\n      <td>1e63351163</td>\n      <td>6a0df73614</td>\n      <td>...</td>\n      <td>1.0</td>\n      <td>10cd4a11ff</td>\n      <td>62cfb91b6d</td>\n      <td>4437136378</td>\n      <td>3f63433675</td>\n      <td>1</td>\n      <td>5.9</td>\n      <td>1d6b6961de</td>\n      <td>1.0</td>\n      <td>316</td>\n    </tr>\n    <tr>\n      <th>330707</th>\n      <td>99999</td>\n      <td>A020</td>\n      <td>2024-08-12 06:27:20+00:00</td>\n      <td>666fe55ad2</td>\n      <td>5085f0136f</td>\n      <td>2c83fb1cbd</td>\n      <td>bcaaba821f</td>\n      <td>10cd4a11ff</td>\n      <td>1e63351163</td>\n      <td>6a0df73614</td>\n      <td>...</td>\n      <td>1.0</td>\n      <td>10cd4a11ff</td>\n      <td>62cfb91b6d</td>\n      <td>4437136378</td>\n      <td>3f63433675</td>\n      <td>1</td>\n      <td>5.9</td>\n      <td>1d6b6961de</td>\n      <td>1.0</td>\n      <td>245</td>\n    </tr>\n    <tr>\n      <th>330708</th>\n      <td>99999</td>\n      <td>A120</td>\n      <td>2024-08-13 13:50:47+00:00</td>\n      <td>666fe55ad2</td>\n      <td>5085f0136f</td>\n      <td>2c83fb1cbd</td>\n      <td>bcaaba821f</td>\n      <td>10cd4a11ff</td>\n      <td>1e63351163</td>\n      <td>6a0df73614</td>\n      <td>...</td>\n      <td>1.0</td>\n      <td>10cd4a11ff</td>\n      <td>62cfb91b6d</td>\n      <td>4437136378</td>\n      <td>3f63433675</td>\n      <td>1</td>\n      <td>5.9</td>\n      <td>1d6b6961de</td>\n      <td>1.0</td>\n      <td>276</td>\n    </tr>\n  </tbody>\n</table>\n<p>330709 rows × 23 columns</p>\n</div>"
     },
     "execution_count": 20,
     "metadata": {},
     "output_type": "execute_result"
    }
   ],
   "source": [
    "### Pre-processing step 2 event log (used in our experiments)\n",
    "dataset_name = 'outbound_2024_06_10_obfuscated'\n",
    "df = pd.read_csv(input_dataset_location + '/' + dataset_name + '.csv', index_col=False)\n",
    "\n",
    "df['time:timestamp'] = pd.to_datetime(df['time:timestamp'], format = 'mixed').dt.tz_convert('UTC')\n",
    "df = df.astype({'case:concept:name': str})\n",
    "df"
   ],
   "metadata": {
    "collapsed": false
   }
  },
  {
   "cell_type": "code",
   "execution_count": 21,
   "outputs": [
    {
     "data": {
      "text/plain": "array(['1000', '100001', '100002', ..., '99996', '99997', '99999'],\n      dtype=object)"
     },
     "execution_count": 21,
     "metadata": {},
     "output_type": "execute_result"
    }
   ],
   "source": [
    "df['case:concept:name'].unique()"
   ],
   "metadata": {
    "collapsed": false
   }
  },
  {
   "cell_type": "code",
   "execution_count": 14,
   "outputs": [
    {
     "data": {
      "text/plain": "Index(['case:concept:name', 'concept:name', 'time:timestamp', 'CAT_ATTR_01',\n       'CAT_ATTR_02', 'CAT_ATTR_03', 'CAT_ATTR_04', 'CAT_ATTR_05',\n       'CAT_ATTR_06', 'CAT_ATTR_07', 'CAT_ATTR_08', 'CAT_ATTR_09',\n       'CAT_ATTR_10', 'NUM_ATTR_01', 'CAT_ATTR_11', 'CAT_ATTR_12',\n       'CAT_ATTR_13', 'CAT_ATTR_14', 'NUM_ATTR_02', 'NUM_ATTR_03',\n       'CAT_ATTR_15', 'NUM_ATTR_04'],\n      dtype='object')"
     },
     "execution_count": 14,
     "metadata": {},
     "output_type": "execute_result"
    }
   ],
   "source": [
    "df.columns"
   ],
   "metadata": {
    "collapsed": false
   }
  }
 ],
 "metadata": {
  "kernelspec": {
   "display_name": "Python 3 (ipykernel)",
   "language": "python",
   "name": "python3"
  },
  "language_info": {
   "codemirror_mode": {
    "name": "ipython",
    "version": 3
   },
   "file_extension": ".py",
   "mimetype": "text/x-python",
   "name": "python",
   "nbconvert_exporter": "python",
   "pygments_lexer": "ipython3",
   "version": "3.12.6"
  }
 },
 "nbformat": 4,
 "nbformat_minor": 4
}
